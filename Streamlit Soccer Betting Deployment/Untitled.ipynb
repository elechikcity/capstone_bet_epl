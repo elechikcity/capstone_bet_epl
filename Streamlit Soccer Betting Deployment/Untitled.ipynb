{
 "cells": [
  {
   "cell_type": "code",
   "execution_count": 1,
   "id": "8cae9af9",
   "metadata": {},
   "outputs": [
    {
     "name": "stdout",
     "output_type": "stream",
     "text": [
      "Collecting jupytext\n",
      "  Downloading jupytext-1.14.5-py3-none-any.whl (298 kB)\n",
      "     ------------------------------------- 298.7/298.7 kB 19.2 MB/s eta 0:00:00\n",
      "Requirement already satisfied: toml in c:\\users\\chik him tang\\anaconda3\\lib\\site-packages (from jupytext) (0.10.2)\n",
      "Requirement already satisfied: pyyaml in c:\\users\\chik him tang\\anaconda3\\lib\\site-packages (from jupytext) (6.0)\n",
      "Collecting mdit-py-plugins\n",
      "  Downloading mdit_py_plugins-0.3.5-py3-none-any.whl (52 kB)\n",
      "     ---------------------------------------- 52.1/52.1 kB ? eta 0:00:00\n",
      "Requirement already satisfied: nbformat in c:\\users\\chik him tang\\anaconda3\\lib\\site-packages (from jupytext) (5.5.0)\n",
      "Requirement already satisfied: markdown-it-py<3.0.0,>=1.0.0 in c:\\users\\chik him tang\\anaconda3\\lib\\site-packages (from jupytext) (2.2.0)\n",
      "Requirement already satisfied: mdurl~=0.1 in c:\\users\\chik him tang\\anaconda3\\lib\\site-packages (from markdown-it-py<3.0.0,>=1.0.0->jupytext) (0.1.2)\n",
      "Requirement already satisfied: traitlets>=5.1 in c:\\users\\chik him tang\\anaconda3\\lib\\site-packages (from nbformat->jupytext) (5.1.1)\n",
      "Requirement already satisfied: jsonschema>=2.6 in c:\\users\\chik him tang\\anaconda3\\lib\\site-packages (from nbformat->jupytext) (4.16.0)\n",
      "Requirement already satisfied: fastjsonschema in c:\\users\\chik him tang\\anaconda3\\lib\\site-packages (from nbformat->jupytext) (2.16.2)\n",
      "Requirement already satisfied: jupyter_core in c:\\users\\chik him tang\\anaconda3\\lib\\site-packages (from nbformat->jupytext) (4.11.1)\n",
      "Requirement already satisfied: attrs>=17.4.0 in c:\\users\\chik him tang\\anaconda3\\lib\\site-packages (from jsonschema>=2.6->nbformat->jupytext) (21.4.0)\n",
      "Requirement already satisfied: pyrsistent!=0.17.0,!=0.17.1,!=0.17.2,>=0.14.0 in c:\\users\\chik him tang\\anaconda3\\lib\\site-packages (from jsonschema>=2.6->nbformat->jupytext) (0.18.0)\n",
      "Requirement already satisfied: pywin32>=1.0 in c:\\users\\chik him tang\\anaconda3\\lib\\site-packages (from jupyter_core->nbformat->jupytext) (302)\n",
      "Installing collected packages: mdit-py-plugins, jupytext\n",
      "Successfully installed jupytext-1.14.5 mdit-py-plugins-0.3.5\n",
      "Note: you may need to restart the kernel to use updated packages.\n"
     ]
    }
   ],
   "source": [
    "pip install jupytext"
   ]
  },
  {
   "cell_type": "code",
   "execution_count": 2,
   "id": "2f006f54",
   "metadata": {},
   "outputs": [
    {
     "name": "stdout",
     "output_type": "stream",
     "text": [
      "[jupytext] Reading app.py in format py\n",
      "[jupytext] Writing app.ipynb\n"
     ]
    }
   ],
   "source": [
    "!jupytext --to notebook app.py"
   ]
  }
 ],
 "metadata": {
  "kernelspec": {
   "display_name": "Python 3 (ipykernel)",
   "language": "python",
   "name": "python3"
  },
  "language_info": {
   "codemirror_mode": {
    "name": "ipython",
    "version": 3
   },
   "file_extension": ".py",
   "mimetype": "text/x-python",
   "name": "python",
   "nbconvert_exporter": "python",
   "pygments_lexer": "ipython3",
   "version": "3.9.13"
  }
 },
 "nbformat": 4,
 "nbformat_minor": 5
}
