{
 "cells": [
  {
   "cell_type": "code",
   "execution_count": null,
   "id": "9c5f92f3",
   "metadata": {},
   "outputs": [],
   "source": [
    "# Import Libraries\n",
    "import streamlit as st\n",
    "import pandas as pd\n",
    "from sklearn.model_selection import train_test_split\n",
    "from sklearn.neighbors import KNeighborsClassifier"
   ]
  },
  {
   "cell_type": "code",
   "execution_count": null,
   "id": "c3981fdb",
   "metadata": {},
   "outputs": [],
   "source": [
    "# Set Page configuration\n",
    "# Read more at https://docs.streamlit.io/1.6.0/library/api-reference/utilities/st.set_page_config\n",
    "st.set_page_config(page_title='Predict outcome of EPL match', page_icon='⚽', layout='wide', initial_sidebar_state='expanded')"
   ]
  },
  {
   "cell_type": "code",
   "execution_count": null,
   "id": "a724b2ed",
   "metadata": {},
   "outputs": [],
   "source": [
    "# Set title of the app\n",
    "st.title('⚽ Predict outcome of EPL match! ⚽')"
   ]
  },
  {
   "cell_type": "code",
   "execution_count": null,
   "id": "1505603a",
   "metadata": {
    "lines_to_next_cell": 2
   },
   "outputs": [],
   "source": [
    "# Load csv into df\n",
    "df = pd.read_csv('new_df_final_to_streamlit.csv')"
   ]
  },
  {
   "cell_type": "code",
   "execution_count": null,
   "id": "3b5b8d4c",
   "metadata": {},
   "outputs": [],
   "source": [
    "#Writing a text for introduction\n",
    "st.write(\"Hello fellow football bettor, let's make your life BET-ter!! Key in the parameters as seen in the website and a predicted outcome will be generated!\")"
   ]
  },
  {
   "cell_type": "code",
   "execution_count": null,
   "id": "33db68e8",
   "metadata": {},
   "outputs": [],
   "source": [
    "st.write(\"Please note that this is not financial advice. If you feel that you are addicted, the gambling hotline is at 1800-6-668-668.\")"
   ]
  },
  {
   "cell_type": "code",
   "execution_count": null,
   "id": "3dbf59f8",
   "metadata": {},
   "outputs": [],
   "source": [
    "st.write(\"Generic information on betting: If the odds are 2, this means that for every dollar put, you get 2 dollars at the end of the bet. If you lose the bet, the entire dollar is gone.\")"
   ]
  },
  {
   "cell_type": "code",
   "execution_count": null,
   "id": "5c1108bb",
   "metadata": {
    "lines_to_next_cell": 2
   },
   "outputs": [],
   "source": [
    "st.write(\"For Bet365 odds, you may refer to https://www.bet365.com.au/#/AC/B1/C1/D1002/E76169570/G40/H^1/ for more information\")"
   ]
  },
  {
   "cell_type": "code",
   "execution_count": null,
   "id": "68416d28",
   "metadata": {},
   "outputs": [],
   "source": [
    "#Text inputs \n",
    "home_name = st.text_input('Home Team Name')\n",
    "away_name = st.text_input('Away Team Name')\n",
    "Bet_Amount = st.sidebar.number_input('Bet Amount', 1.0, 100000000.0, 10.0)"
   ]
  },
  {
   "cell_type": "code",
   "execution_count": null,
   "id": "1f1d8c7b",
   "metadata": {},
   "outputs": [],
   "source": [
    "matchday = st.selectbox('Select Matchday',['Monday', 'Tuesday', 'Wednesday','Thursday','Friday','Saturday','Sunday'])\n",
    "referee = st.selectbox('Select Referee',['A Marriner', 'A Taylor', 'C Foy','H Webb','J Moss','K Friend','L Mason','L Probert','M Atkinson','M Clattenburg','M Dean','M Oliver','M Riley','P Dowd','M Jones','OTHERS'])"
   ]
  },
  {
   "cell_type": "markdown",
   "id": "4e9c22f8",
   "metadata": {},
   "source": [
    "Set input widgets that will be the 'x_test' input thereafter"
   ]
  },
  {
   "cell_type": "code",
   "execution_count": null,
   "id": "7affd2f6",
   "metadata": {
    "lines_to_next_cell": 2
   },
   "outputs": [],
   "source": [
    "st.sidebar.subheader('Select Match Attributes')\n",
    "Home_Odds = st.sidebar.number_input('Bet365 Home Odds', 1.0, 30.0, 2.0)\n",
    "Draw_Odds = st.sidebar.number_input('Bet365 Draw Odds', 1.0, 30.0, 2.0)\n",
    "Away_Odds = st.sidebar.number_input('Bet365 Away Odds', 1.0, 30.0, 2.0)\n",
    "Home_Team_Rank = st.sidebar.slider('Current Rank (Home Team)', 1, 20, 10)\n",
    "Away_Team_Rank = st.sidebar.slider('Current Rank (Away Team)', 1, 20, 10)"
   ]
  },
  {
   "cell_type": "markdown",
   "id": "8e244ed5",
   "metadata": {},
   "source": [
    "Defining matchdays Variables"
   ]
  },
  {
   "cell_type": "code",
   "execution_count": null,
   "id": "ff2a930d",
   "metadata": {
    "lines_to_next_cell": 2
   },
   "outputs": [],
   "source": [
    "matchday_Monday =0\n",
    "matchday_Tuesday =0\n",
    "matchday_Wednesday =0\n",
    "matchday_Thursday =0\n",
    "matchday_Friday =0\n",
    "matchday_Saturday =0\n",
    "matchday_Sunday =0"
   ]
  },
  {
   "cell_type": "markdown",
   "id": "1c5e6a6c",
   "metadata": {},
   "source": [
    "Depending on what the user puts in the matchday, change the model columns accordingly."
   ]
  },
  {
   "cell_type": "code",
   "execution_count": null,
   "id": "d0394f36",
   "metadata": {},
   "outputs": [],
   "source": [
    "if matchday == 'Monday':\n",
    "    matchday_Monday = 1\n",
    "elif matchday == 'Tuesday':\n",
    "    matchday_Tuesday = 1\n",
    "elif matchday == 'Wednesday':\n",
    "    matchday_Wednesday = 1   \n",
    "elif matchday == 'Thursday':\n",
    "    matchday_Thursday = 1    \n",
    "elif matchday == 'Saturday':\n",
    "    matchday_Saturday = 1\n",
    "elif matchday == 'Sunday':\n",
    "    matchday_Sunday = 1    \n",
    "else: \n",
    "    matchday_Friday = 1"
   ]
  },
  {
   "cell_type": "markdown",
   "id": "9862605e",
   "metadata": {},
   "source": [
    "Defining Referee Variables "
   ]
  },
  {
   "cell_type": "code",
   "execution_count": null,
   "id": "6dbd2c8d",
   "metadata": {},
   "outputs": [],
   "source": [
    "ref_AMarriner =0\n",
    "ref_ATaylor =0\n",
    "ref_AMarriner=0\n",
    "ref_ATaylor=0\n",
    "ref_CFoy=0\n",
    "ref_HWebb=0\n",
    "ref_JMoss=0\n",
    "ref_KFriend=0\n",
    "ref_LMason=0\n",
    "ref_LProbert=0\n",
    "ref_MAtkinson=0\n",
    "ref_MClattenburg=0\n",
    "ref_MDean=0\n",
    "ref_MOliver=0\n",
    "ref_MRiley=0\n",
    "ref_PDowd=0\n",
    "ref_MJones=0"
   ]
  },
  {
   "cell_type": "code",
   "execution_count": null,
   "id": "ae165405",
   "metadata": {
    "lines_to_next_cell": 2
   },
   "outputs": [],
   "source": [
    "#Depending on what the user puts in the select box under referee, change the model column accordingly\n",
    "if referee == 'A Marriner':\n",
    "     ref_AMarriner = 1\n",
    "elif referee == 'A Taylor':\n",
    "    ref_ATaylor= 1\n",
    "elif referee == 'C Foy':\n",
    "    ref_CFoy= 1   \n",
    "elif referee == 'H Webb':\n",
    "    ref_HWebb= 1\n",
    "elif referee == 'J Moss':\n",
    "    ref_JMoss= 1\n",
    "elif referee == 'K Friend':\n",
    "    ref_KFriend= 1\n",
    "elif referee == 'L Mason':\n",
    "    ref_LMason= 1\n",
    "elif referee == 'L Probert':\n",
    "    ref_LProbert= 1    \n",
    "elif referee == 'M Atkinson':\n",
    "    ref_MAtkinson= 1\n",
    "elif referee == 'M Clattenburg':\n",
    "    ref_MClattenburg= 1    \n",
    "elif referee == 'M Dean':\n",
    "    ref_MDean= 1    \n",
    "elif referee == 'M Oliver':\n",
    "    ref_MOliver= 1\n",
    "elif referee == 'M Riley':\n",
    "    ref_MRiley= 1 \n",
    "elif referee == 'P Dowd':\n",
    "    ref_PDowd= 1 \n",
    "else:\n",
    "    ref_MJones= 1 "
   ]
  },
  {
   "cell_type": "code",
   "execution_count": null,
   "id": "9a5e2927",
   "metadata": {
    "lines_to_next_cell": 2
   },
   "outputs": [],
   "source": [
    "feature_cols = ['B365H','B365D','B365A','matchday_Monday','matchday_Saturday',\n",
    "               'matchday_Sunday','matchday_Thursday','matchday_Tuesday','matchday_Wednesday','ht_rank','at_rank',\n",
    "               'ref_A Marriner','ref_A Taylor','ref_C Foy', 'ref_H Webb',\n",
    "               'ref_J Moss','ref_K Friend','ref_L Mason','ref_L Probert','ref_M Atkinson'\n",
    "              ,'ref_M Clattenburg','ref_M Dean','ref_M Oliver','ref_M Riley','ref_P Dowd','ref_M Jones']"
   ]
  },
  {
   "cell_type": "code",
   "execution_count": null,
   "id": "ee7c66ed",
   "metadata": {},
   "outputs": [],
   "source": [
    "# Separate to X and y\n",
    "X = df[feature_cols]\n",
    "y = df.FTR"
   ]
  },
  {
   "cell_type": "code",
   "execution_count": null,
   "id": "d2661333",
   "metadata": {
    "lines_to_next_cell": 2
   },
   "outputs": [],
   "source": [
    "# Split data\n",
    "X_train, X_test, y_train, y_test = train_test_split(X, y, test_size=0.2, random_state=0)"
   ]
  },
  {
   "cell_type": "code",
   "execution_count": null,
   "id": "1f3b8bcc",
   "metadata": {
    "lines_to_next_cell": 2
   },
   "outputs": [],
   "source": [
    "# Build model and train\n",
    "knn = KNeighborsClassifier(n_neighbors=77)\n",
    "knn.fit(X_train, y_train)"
   ]
  },
  {
   "cell_type": "markdown",
   "id": "7866c3b5",
   "metadata": {},
   "source": [
    "# Generate prediction based on user selected attributes (predictingunseen data)"
   ]
  },
  {
   "cell_type": "code",
   "execution_count": null,
   "id": "eb6c192a",
   "metadata": {},
   "outputs": [],
   "source": [
    "y_pred = knn.predict([[Home_Odds, Draw_Odds, Away_Odds, matchday_Monday, matchday_Saturday, matchday_Sunday, matchday_Thursday, matchday_Tuesday, matchday_Wednesday, Home_Team_Rank, Away_Team_Rank, ref_AMarriner, ref_ATaylor, ref_CFoy, ref_HWebb, ref_JMoss, ref_KFriend, ref_LMason, ref_LProbert, ref_MAtkinson, ref_MClattenburg, ref_MDean, ref_MOliver, ref_MRiley, ref_PDowd, ref_MJones]])"
   ]
  },
  {
   "cell_type": "markdown",
   "id": "d817ff2c",
   "metadata": {},
   "source": [
    "Generating the output and "
   ]
  },
  {
   "cell_type": "code",
   "execution_count": null,
   "id": "b6b873b6",
   "metadata": {
    "lines_to_next_cell": 2
   },
   "outputs": [],
   "source": [
    "if y_pred[0] == 0:\n",
    "    winner = 'Draw'\n",
    "elif y_pred[0] == 1:\n",
    "    winner = away_name\n",
    "else:\n",
    "    winner= home_name"
   ]
  },
  {
   "cell_type": "code",
   "execution_count": null,
   "id": "f3163afc",
   "metadata": {},
   "outputs": [],
   "source": [
    "# Print predicted outcome of the game\n",
    "st.subheader('Final Prediction:')\n",
    "st.metric('', winner, '')"
   ]
  },
  {
   "cell_type": "code",
   "execution_count": null,
   "id": "50c9d7cd",
   "metadata": {
    "lines_to_next_cell": 2
   },
   "outputs": [],
   "source": []
  }
 ],
 "metadata": {
  "jupytext": {
   "cell_metadata_filter": "-all",
   "main_language": "python",
   "notebook_metadata_filter": "-all"
  }
 },
 "nbformat": 4,
 "nbformat_minor": 5
}
